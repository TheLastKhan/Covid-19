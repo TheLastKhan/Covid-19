{
 "cells": [
  {
   "cell_type": "code",
   "execution_count": null,
   "metadata": {},
   "outputs": [],
   "source": [
    "import os\n",
    "from IPython.display import Image\n",
    "PATH = \"C:\\\\Users\\\\Hakan\\\\Desktop\\\\Covid-19\\\\\"\n",
    "Image(filename = PATH + \"CVP.jpg\", width=900, height=900)"
   ]
  },
  {
   "cell_type": "code",
   "execution_count": null,
   "metadata": {},
   "outputs": [],
   "source": [
    "import os\n",
    "import numpy as np\n",
    "import pandas as pd\n",
    "import seaborn as sns\n",
    "import math\n",
    "import random\n",
    "import json, requests\n",
    "import plotly.express as px\n",
    "import plotly.graph_objs as go\n",
    "import pycountry_convert as pc\n",
    "import folium\n",
    "import branca\n",
    "import calmap\n",
    "import glob\n",
    "import time\n",
    "import datetime\n",
    "#import timedelta\n",
    "#import date\n",
    "import operator\n",
    "import re\n",
    "import requests\n",
    "import wget\n",
    "\n",
    "from bs4 import BeautifulSoup\n",
    "\n",
    "from math import sqrt\n",
    "from matplotlib import pyplot as plt\n",
    "from matplotlib import ticker \n",
    "from matplotlib import colors as mcolors\n",
    "\n",
    "from sklearn.linear_model import LinearRegression, BayesianRidge\n",
    "from sklearn.preprocessing import PolynomialFeatures\n",
    "from sklearn.tree import DecisionTreeClassifier, DecisionTreeRegressor\n",
    "from sklearn.model_selection import RandomizedSearchCV, train_test_split\n",
    "from sklearn.svm import SVR\n",
    "from sklearn.metrics import r2_score, explained_variance_score, mean_absolute_error, mean_squared_error\n",
    "\n",
    "#from datetime import datetime, timedelta, date\n",
    "\n",
    "from urllib.request import urlopen\n",
    "\n",
    "from plotly.subplots import make_subplots\n",
    "from plotly.offline import plot, iplot, init_notebook_mode\n",
    "\n",
    "from pandas.plotting import register_matplotlib_converters\n",
    "register_matplotlib_converters()   \n",
    "\n",
    "import warnings\n",
    "warnings.filterwarnings('ignore')\n",
    "\n",
    "init_notebook_mode(connected=True)\n",
    "\n",
    "sns.set_style('darkgrid')\n",
    "\n",
    "plt.style.use('fivethirtyeight')\n",
    "\n",
    "pd.set_option('display.max_rows', None)\n",
    "\n",
    "%matplotlib inline\n",
    "\n",
    "np.set_printoptions(formatter={'float_kind':'{:f}'.format})\n",
    "\n",
    "sns.set(rc={'figure.figsize':(12,12)})"
   ]
  },
  {
   "cell_type": "code",
   "execution_count": null,
   "metadata": {},
   "outputs": [],
   "source": [
    "link = 'https://www.worldometers.info/coronavirus/'\n",
    "\n",
    "req = requests.get(link)\n",
    "\n",
    "soup = BeautifulSoup(req.content, \"html.parser\")"
   ]
  },
  {
   "cell_type": "code",
   "execution_count": null,
   "metadata": {},
   "outputs": [],
   "source": [
    "thead = soup.find_all('thead')[-1]\n",
    "head = thead.find_all('tr')\n",
    "tbody = soup.find_all('tbody')[0]\n",
    "body = tbody.find_all('tr')"
   ]
  },
  {
   "cell_type": "code",
   "execution_count": null,
   "metadata": {},
   "outputs": [],
   "source": [
    "head_rows = []\n",
    "\n",
    "body_rows = []\n",
    "\n",
    "for tr in head:\n",
    "    td = tr.find_all(['th', 'td'])\n",
    "    row = [i.text for i in td]\n",
    "    head_rows.append(row)\n",
    "\n",
    "for tr in body:\n",
    "    td = tr.find_all(['th', 'td'])\n",
    "    row = [i.text for i in td]\n",
    "    body_rows.append(row)"
   ]
  },
  {
   "cell_type": "code",
   "execution_count": null,
   "metadata": {},
   "outputs": [],
   "source": [
    "df_bs = pd.DataFrame(body_rows[:len(body_rows)-6], \n",
    "                     columns=head_rows[0])         \n",
    "\n",
    "df_bs.head(10)"
   ]
  },
  {
   "cell_type": "code",
   "execution_count": null,
   "metadata": {},
   "outputs": [],
   "source": [
    "df_bs.tail()"
   ]
  },
  {
   "cell_type": "code",
   "execution_count": null,
   "metadata": {},
   "outputs": [],
   "source": [
    "df_bs = df_bs.loc[8:].reset_index(drop=True)\n",
    "df_bs = df_bs.drop('#', axis=1)\n",
    "df_bs.head()"
   ]
  },
  {
   "cell_type": "code",
   "execution_count": null,
   "metadata": {},
   "outputs": [],
   "source": [
    "df_bs = df_bs.iloc[:, :-3]"
   ]
  },
  {
   "cell_type": "code",
   "execution_count": null,
   "metadata": {},
   "outputs": [],
   "source": [
    "df_bs.columns"
   ]
  },
  {
   "cell_type": "code",
   "execution_count": null,
   "metadata": {},
   "outputs": [],
   "source": [
    "df_bs.columns = ['Country/Region', 'TotalCases', 'NewCases', 'TotalDeaths', 'NewDeaths',\n",
    "       'TotalRecovered', 'NewRecovered', 'ActiveCases', 'Serious,Critical',\n",
    "       'Tot Cases/1M pop', 'Deaths/1M pop', 'TotalTests', 'Tests/1M pop',\n",
    "       'Population', 'Continent']\n",
    "\n",
    "df_bs = df_bs[['Country/Region', 'Continent', 'Population', 'TotalCases', 'NewCases', 'TotalDeaths', 'NewDeaths',\n",
    "       'TotalRecovered', 'NewRecovered', 'ActiveCases', 'Serious,Critical',\n",
    "       'Tot Cases/1M pop', 'Deaths/1M pop', 'TotalTests', 'Tests/1M pop' ]]\n",
    "\n",
    "df_bs.head()"
   ]
  },
  {
   "cell_type": "code",
   "execution_count": null,
   "metadata": {},
   "outputs": [],
   "source": [
    "df_bs.columns[2:]"
   ]
  },
  {
   "cell_type": "code",
   "execution_count": null,
   "metadata": {},
   "outputs": [],
   "source": [
    "for col in df_bs.columns[2:]:\n",
    "    df_bs[col] = df_bs[col].str.replace('[,+ ]', '', regex=True)\n",
    "    df_bs[col] = df_bs[col].str.replace('N/A', '', regex=False)\n",
    " \n",
    "\n",
    "df_bs.replace('', np.nan)"
   ]
  },
  {
   "cell_type": "code",
   "execution_count": null,
   "metadata": {},
   "outputs": [],
   "source": [
    "df_bs[df_bs['Country/Region'] == 'Turkey']"
   ]
  },
  {
   "cell_type": "code",
   "execution_count": null,
   "metadata": {},
   "outputs": [],
   "source": [
    "df_bs.to_csv('worldometer_data.csv', index=False)"
   ]
  },
  {
   "cell_type": "code",
   "execution_count": null,
   "metadata": {},
   "outputs": [],
   "source": []
  },
  {
   "cell_type": "code",
   "execution_count": null,
   "metadata": {},
   "outputs": [],
   "source": []
  },
  {
   "cell_type": "code",
   "execution_count": null,
   "metadata": {},
   "outputs": [],
   "source": []
  },
  {
   "cell_type": "code",
   "execution_count": null,
   "metadata": {},
   "outputs": [],
   "source": []
  },
  {
   "cell_type": "code",
   "execution_count": null,
   "metadata": {},
   "outputs": [],
   "source": []
  },
  {
   "cell_type": "code",
   "execution_count": null,
   "metadata": {},
   "outputs": [],
   "source": [
    "urls = ['https://raw.githubusercontent.com/CSSEGISandData/COVID-19/master/csse_covid_19_data/csse_covid_19_time_series/time_series_covid19_confirmed_global.csv', \n",
    "        'https://raw.githubusercontent.com/CSSEGISandData/COVID-19/master/csse_covid_19_data/csse_covid_19_time_series/time_series_covid19_deaths_global.csv',\n",
    "        'https://raw.githubusercontent.com/CSSEGISandData/COVID-19/master/csse_covid_19_data/csse_covid_19_time_series/time_series_covid19_recovered_global.csv']\n",
    "    \n",
    "for url in urls:\n",
    "    filename = wget.download(url)"
   ]
  },
  {
   "cell_type": "code",
   "execution_count": null,
   "metadata": {},
   "outputs": [],
   "source": [
    "raw_data_confirmed = pd.read_csv(\"https://raw.githubusercontent.com/CSSEGISandData/COVID-19/master/csse_covid_19_data/csse_covid_19_time_series/time_series_covid19_confirmed_global.csv\")\n",
    "raw_data_deaths = pd.read_csv(\"https://raw.githubusercontent.com/CSSEGISandData/COVID-19/master/csse_covid_19_data/csse_covid_19_time_series/time_series_covid19_deaths_global.csv\")\n",
    "raw_data_recovered = pd.read_csv(\"https://raw.githubusercontent.com/CSSEGISandData/COVID-19/master/csse_covid_19_data/csse_covid_19_time_series/time_series_covid19_recovered_global.csv\")\n",
    "worldwide = pd.read_csv(\"https://raw.githubusercontent.com/datasets/covid-19/master/data/worldwide-aggregated.csv\")\n",
    "\n",
    "print(\"The Shape of Confirmed is: \", raw_data_confirmed.shape)\n",
    "print(\"The Shape of Death is: \", raw_data_deaths.shape)\n",
    "print(\"The Shape of Recovered is: \", raw_data_recovered.shape)\n",
    "\n",
    "raw_data_confirmed.head()"
   ]
  },
  {
   "cell_type": "code",
   "execution_count": null,
   "metadata": {},
   "outputs": [],
   "source": [
    "raw_data_confirmed[raw_data_confirmed['Country/Region'] == 'Turkey']"
   ]
  },
  {
   "cell_type": "code",
   "execution_count": null,
   "metadata": {},
   "outputs": [],
   "source": [
    "raw_data_deaths[raw_data_deaths['Country/Region'] == 'Turkey']"
   ]
  },
  {
   "cell_type": "code",
   "execution_count": null,
   "metadata": {},
   "outputs": [],
   "source": [
    "raw_data_recovered[raw_data_recovered['Country/Region'] == 'Turkey']"
   ]
  },
  {
   "cell_type": "code",
   "execution_count": null,
   "metadata": {},
   "outputs": [],
   "source": [
    "raw_data_confirmed2 = pd.melt(raw_data_confirmed, id_vars=['Province/State', 'Country/Region', 'Lat', 'Long'], var_name=['Date'])\n",
    "raw_data_deaths2 = pd.melt(raw_data_deaths, id_vars=['Province/State', 'Country/Region', 'Lat', 'Long'], var_name=['Date'])\n",
    "raw_data_recovered2 = pd.melt(raw_data_recovered, id_vars=['Province/State', 'Country/Region', 'Lat', 'Long'], var_name=['Date'])\n",
    "\n",
    "print(\"The Shape of Confirmed is: \", raw_data_confirmed2.shape)\n",
    "print(\"The Shape of Death is: \", raw_data_deaths2.shape)\n",
    "print(\"The Shape of Recovered is: \", raw_data_recovered2.shape)\n",
    "\n",
    "raw_data_confirmed2.head()"
   ]
  },
  {
   "cell_type": "code",
   "execution_count": null,
   "metadata": {},
   "outputs": [],
   "source": [
    "raw_data_confirmed2['Date'] = pd.to_datetime(raw_data_confirmed2['Date'])\n",
    "raw_data_deaths2['Date'] = pd.to_datetime(raw_data_deaths2['Date'])\n",
    "raw_data_recovered2['Date'] = pd.to_datetime(raw_data_recovered2['Date'])\n",
    "worldwide['Date'] = pd.to_datetime(worldwide['Date'])"
   ]
  },
  {
   "cell_type": "code",
   "execution_count": null,
   "metadata": {},
   "outputs": [],
   "source": [
    "raw_data_confirmed2.columns = raw_data_confirmed2.columns.str.replace('value', 'Confirmed')\n",
    "raw_data_deaths2.columns = raw_data_deaths2.columns.str.replace('value', 'Deaths')\n",
    "raw_data_recovered2.columns = raw_data_recovered2.columns.str.replace('value', 'Recovered')"
   ]
  },
  {
   "cell_type": "code",
   "execution_count": null,
   "metadata": {},
   "outputs": [],
   "source": [
    "raw_data_recovered2.isnull().sum()"
   ]
  },
  {
   "cell_type": "code",
   "execution_count": null,
   "metadata": {},
   "outputs": [],
   "source": [
    "raw_data_confirmed2['Province/State'].fillna(raw_data_confirmed2['Country/Region'], inplace=True)\n",
    "raw_data_deaths2['Province/State'].fillna(raw_data_deaths2['Country/Region'], inplace=True)\n",
    "raw_data_recovered2['Province/State'].fillna(raw_data_recovered2['Country/Region'], inplace=True)\n",
    "\n",
    "raw_data_confirmed2.isnull().sum()"
   ]
  },
  {
   "cell_type": "code",
   "execution_count": null,
   "metadata": {},
   "outputs": [],
   "source": [
    "print(\"The Shape of Confirmed is: \", raw_data_confirmed2.shape)\n",
    "print(\"The Shape of Death is: \", raw_data_deaths2.shape)\n",
    "print(\"The Shape of Recovered is: \", raw_data_recovered2.shape)"
   ]
  },
  {
   "cell_type": "code",
   "execution_count": null,
   "metadata": {},
   "outputs": [],
   "source": [
    "raw_data_confirmed2.isnull().sum()\n",
    "raw_data_deaths2.isnull().sum()\n",
    "raw_data_recovered2.isnull().sum()"
   ]
  },
  {
   "cell_type": "code",
   "execution_count": null,
   "metadata": {},
   "outputs": [],
   "source": [
    "full_join = raw_data_confirmed2.merge(raw_data_deaths2[['Province/State','Country/Region','Date','Deaths']],\n",
    "how = 'left',\n",
    "left_on = ['Province/State','Country/Region','Date'],\n",
    "right_on = ['Province/State','Country/Region','Date'])\n",
    "\n",
    "print(\"Shape of first join: \", full_join.shape)\n",
    "\n",
    "full_join = full_join.merge(raw_data_recovered2[['Province/State','Country/Region','Date','Recovered']],\n",
    "how = 'left',\n",
    "left_on = ['Province/State','Country/Region','Date'],\n",
    "right_on = ['Province/State','Country/Region','Date'])\n",
    "\n",
    "print(\"Shape of second join: \", full_join.shape)\n",
    "\n",
    "full_join.head()"
   ]
  },
  {
   "cell_type": "code",
   "execution_count": null,
   "metadata": {},
   "outputs": [],
   "source": [
    "full_join['Active Cases'] = full_join['Confirmed'] - full_join['Deaths'] - full_join['Recovered']\n",
    "worldwide['Active Cases'] = worldwide['Confirmed'] - worldwide['Deaths'] - worldwide['Recovered']"
   ]
  },
  {
   "cell_type": "code",
   "execution_count": null,
   "metadata": {},
   "outputs": [],
   "source": [
    "full_join['Month-Year'] = full_join['Date'].dt.strftime('%b-%y')\n",
    "worldwide['Month-Year'] = worldwide['Date'].dt.strftime('%b-%y')"
   ]
  },
  {
   "cell_type": "code",
   "execution_count": null,
   "metadata": {},
   "outputs": [],
   "source": [
    "full_join.fillna(0 , inplace=True)\n",
    "worldwide.fillna(0 , inplace=True)"
   ]
  },
  {
   "cell_type": "code",
   "execution_count": null,
   "metadata": {},
   "outputs": [],
   "source": [
    "full_join[[\"Recovered\"]] = full_join[[\"Recovered\"]].astype(int)\n",
    "worldwide[[\"Recovered\"]] = worldwide[[\"Recovered\"]].astype(int)"
   ]
  },
  {
   "cell_type": "code",
   "execution_count": null,
   "metadata": {},
   "outputs": [],
   "source": [
    "full_join.isnull().sum()"
   ]
  },
  {
   "cell_type": "code",
   "execution_count": null,
   "metadata": {},
   "outputs": [],
   "source": [
    "worldwide.isnull().sum()"
   ]
  },
  {
   "cell_type": "code",
   "execution_count": null,
   "metadata": {},
   "outputs": [],
   "source": [
    "worldwide"
   ]
  },
  {
   "cell_type": "code",
   "execution_count": null,
   "metadata": {},
   "outputs": [],
   "source": []
  },
  {
   "cell_type": "code",
   "execution_count": null,
   "metadata": {},
   "outputs": [],
   "source": [
    "full_join2 = full_join.copy()\n",
    "worldwide2 = worldwide.copy()\n",
    "\n",
    "\n",
    "\n",
    "full_join2['Date - 1'] = full_join2['Date'] + pd.Timedelta(days=1)\n",
    "full_join2.rename(columns={'Confirmed': 'Confirmed - 1', 'Deaths': 'Deaths - 1', 'Recovered': 'Recovered - 1',\n",
    "                           'Date': 'Date Minus 1'}, inplace=True)\n",
    "\n",
    "\n",
    "worldwide2['Date - 1'] = worldwide2['Date'] + pd.Timedelta(days=1)\n",
    "worldwide2.rename(columns={'Confirmed': 'Confirmed - 1', 'Deaths': 'Deaths - 1', 'Recovered': 'Recovered - 1',\n",
    "                           'Date': 'Date Minus 1'}, inplace=True)\n",
    "\n",
    "\n",
    "full_join3 = full_join.merge(full_join2[['Province/State', 'Country/Region', 'Confirmed - 1', 'Deaths - 1', 'Recovered - 1',\n",
    "                                         'Date - 1', 'Date Minus 1']], how='left', \n",
    "                                left_on=['Province/State', 'Country/Region', 'Date'],\n",
    "                               right_on=['Province/State', 'Country/Region', 'Date - 1'])\n",
    "\n",
    "\n",
    "worldwide3 = worldwide.merge(worldwide2[['Confirmed - 1', 'Deaths - 1', 'Recovered - 1',\n",
    "                                         'Date - 1', 'Date Minus 1']], how='left', \n",
    "                                left_on=['Date'],\n",
    "                               right_on=['Date - 1'])\n",
    "\n",
    "\n",
    "full_join3['Confirmed Daily'] = full_join3['Confirmed'] - full_join3['Confirmed - 1']\n",
    "full_join3['Deaths Daily'] = full_join3['Deaths'] - full_join3['Deaths - 1']\n",
    "full_join3['Recovered Daily'] = full_join3['Recovered'] - full_join3['Recovered - 1']\n",
    "\n",
    "\n",
    "worldwide3['Confirmed Daily'] = worldwide3['Confirmed'] - worldwide3['Confirmed - 1']\n",
    "worldwide3['Recovered Daily'] = worldwide3['Recovered'] - worldwide3['Recovered - 1']\n",
    "worldwide3['Deaths Daily'] = worldwide3['Deaths'] - worldwide3['Deaths - 1']\n",
    "\n",
    "\n",
    "print(full_join3.shape)\n",
    "print(worldwide3.shape)"
   ]
  },
  {
   "cell_type": "code",
   "execution_count": null,
   "metadata": {},
   "outputs": [],
   "source": [
    "full_join3.head()"
   ]
  },
  {
   "cell_type": "code",
   "execution_count": null,
   "metadata": {},
   "outputs": [],
   "source": [
    "worldwide3.head()"
   ]
  },
  {
   "cell_type": "code",
   "execution_count": null,
   "metadata": {},
   "outputs": [],
   "source": [
    "full_join3['Confirmed Daily'].loc[full_join3['Date'] == '2020-01-22'] = full_join3['Confirmed']\n",
    "full_join3['Deaths Daily'].loc[full_join3['Date'] == '2020-01-22'] = full_join3['Deaths']\n",
    "full_join3['Recovered Daily'].loc[full_join3['Date'] == '2020-01-22'] = full_join3['Recovered']\n",
    "\n",
    "worldwide3['Confirmed Daily'].loc[worldwide3['Date'] == '2020-01-22'] = worldwide3['Confirmed']\n",
    "worldwide3['Recovered Daily'].loc[worldwide3['Date'] == '2020-01-22'] = worldwide3['Recovered']\n",
    "worldwide3['Deaths Daily'].loc[worldwide3['Date'] == '2020-01-22'] = worldwide3['Deaths']\n",
    "\n",
    "del full_join3['Confirmed - 1']\n",
    "del full_join3['Deaths - 1']\n",
    "del full_join3['Recovered - 1']\n",
    "del full_join3['Date - 1']\n",
    "del full_join3['Date Minus 1']\n",
    "\n",
    "del worldwide3['Confirmed - 1']\n",
    "del worldwide3['Deaths - 1']\n",
    "del worldwide3['Recovered - 1']\n",
    "del worldwide3['Date - 1']\n",
    "del worldwide3['Date Minus 1']"
   ]
  },
  {
   "cell_type": "code",
   "execution_count": null,
   "metadata": {},
   "outputs": [],
   "source": [
    "full_join3.head()"
   ]
  },
  {
   "cell_type": "code",
   "execution_count": null,
   "metadata": {},
   "outputs": [],
   "source": [
    "worldwide3.head()"
   ]
  },
  {
   "cell_type": "code",
   "execution_count": null,
   "metadata": {},
   "outputs": [],
   "source": [
    "full_join3[[\"Confirmed Daily\",\"Deaths Daily\",\"Recovered Daily\",\"Active Cases\"]] = full_join3[[\"Confirmed Daily\",\"Deaths Daily\",\"Recovered Daily\",\"Active Cases\"]].astype(int)\n",
    "worldwide3[[\"Confirmed Daily\",\"Deaths Daily\",\"Recovered Daily\",\"Active Cases\"]] = worldwide3[[\"Confirmed Daily\",\"Deaths Daily\",\"Recovered Daily\",\"Active Cases\"]].astype(int)"
   ]
  },
  {
   "cell_type": "code",
   "execution_count": null,
   "metadata": {},
   "outputs": [],
   "source": [
    "full_join3['Turkey vs Rest of the World'] = 'Rest of the World'\n",
    "full_join3['Turkey vs Rest of the World'].loc[full_join3['Province/State'] == 'Turkey'] = 'Turkey - Virus'"
   ]
  },
  {
   "cell_type": "code",
   "execution_count": null,
   "metadata": {},
   "outputs": [],
   "source": [
    "full_join3[full_join3['Country/Region'] == 'Turkey']"
   ]
  },
  {
   "cell_type": "code",
   "execution_count": null,
   "metadata": {},
   "outputs": [],
   "source": [
    "full_join3.head()"
   ]
  },
  {
   "cell_type": "code",
   "execution_count": null,
   "metadata": {},
   "outputs": [],
   "source": []
  },
  {
   "cell_type": "code",
   "execution_count": null,
   "metadata": {},
   "outputs": [],
   "source": [
    "turkey_province_wise = full_join3[full_join3['Country/Region']=='Turkey']\n",
    "turkey_province_wise['Province/State'].unique()\n",
    "turkey_province_wise.to_csv('turkey_province_wise.csv', sep='\\t', index=False)"
   ]
  },
  {
   "cell_type": "code",
   "execution_count": null,
   "metadata": {},
   "outputs": [],
   "source": [
    "us_province_wise = full_join3[full_join3['Country/Region']=='US']\n",
    "us_province_wise['Province/State'].unique()\n",
    "us_province_wise.to_csv('us_province_wise.csv', sep='\\t', index=False)"
   ]
  },
  {
   "cell_type": "code",
   "execution_count": null,
   "metadata": {},
   "outputs": [],
   "source": [
    "canada_province_wise = full_join3[full_join3['Country/Region']=='Canada']\n",
    "canada_province_wise['Province/State'].unique()\n",
    "canada_province_wise.to_csv('canada_province_wise.csv', sep='\\t', index=False)"
   ]
  },
  {
   "cell_type": "code",
   "execution_count": null,
   "metadata": {},
   "outputs": [],
   "source": [
    "brazil_province_wise = full_join3[full_join3['Country/Region']=='Brazil']\n",
    "brazil_province_wise['Province/State'].unique()\n",
    "brazil_province_wise.to_csv('brazil_province_wise.csv', sep='\\t', index=False)"
   ]
  },
  {
   "cell_type": "code",
   "execution_count": null,
   "metadata": {},
   "outputs": [],
   "source": [
    "mexico_province_wise = full_join3[full_join3['Country/Region']=='Mexico']\n",
    "mexico_province_wise['Province/State'].unique()\n",
    "mexico_province_wise.to_csv('mexico_province_wise.csv', sep='\\t', index=False)"
   ]
  },
  {
   "cell_type": "code",
   "execution_count": null,
   "metadata": {},
   "outputs": [],
   "source": [
    "peru_province_wise = full_join3[full_join3['Country/Region']=='Peru']\n",
    "peru_province_wise['Province/State'].unique()\n",
    "peru_province_wise.to_csv('peru_province_wise.csv', sep='\\t', index=False)"
   ]
  },
  {
   "cell_type": "code",
   "execution_count": null,
   "metadata": {},
   "outputs": [],
   "source": [
    "chile_province_wise = full_join3[full_join3['Country/Region']=='Chile']\n",
    "chile_province_wise['Province/State'].unique()\n",
    "chile_province_wise.to_csv('chile_province_wise.csv', sep='\\t', index=False)"
   ]
  },
  {
   "cell_type": "code",
   "execution_count": null,
   "metadata": {},
   "outputs": [],
   "source": [
    "russia_province_wise = full_join3[full_join3['Country/Region']=='Russia']\n",
    "russia_province_wise['Province/State'].unique()\n",
    "russia_province_wise.to_csv('russia_province_wise.csv', sep='\\t', index=False)"
   ]
  },
  {
   "cell_type": "code",
   "execution_count": null,
   "metadata": {},
   "outputs": [],
   "source": [
    "china_province_wise = full_join3[full_join3['Country/Region']=='China']\n",
    "china_province_wise['Province/State'].unique()\n",
    "china_province_wise.to_csv('china_province_wise.csv', sep='\\t', index=False)"
   ]
  },
  {
   "cell_type": "code",
   "execution_count": null,
   "metadata": {},
   "outputs": [],
   "source": [
    "india_province_wise = full_join3[full_join3['Country/Region']=='India']\n",
    "india_province_wise['Province/State'].unique()\n",
    "india_province_wise.to_csv('india_province_wise.csv', sep='\\t', index=False)"
   ]
  },
  {
   "cell_type": "code",
   "execution_count": null,
   "metadata": {},
   "outputs": [],
   "source": [
    "pakistan_province_wise = full_join3[full_join3['Country/Region']=='Pakistan']\n",
    "pakistan_province_wise['Province/State'].unique()\n",
    "pakistan_province_wise.to_csv('pakistan_province_wise.csv', sep='\\t', index=False)"
   ]
  },
  {
   "cell_type": "code",
   "execution_count": null,
   "metadata": {},
   "outputs": [],
   "source": [
    "iran_province_wise = full_join3[full_join3['Country/Region']=='Iran']\n",
    "iran_province_wise['Province/State'].unique()\n",
    "iran_province_wise.to_csv('iran_province_wise.csv', sep='\\t', index=False)"
   ]
  },
  {
   "cell_type": "code",
   "execution_count": null,
   "metadata": {},
   "outputs": [],
   "source": [
    "uk_province_wise = full_join3[full_join3['Country/Region']=='United Kingdom']\n",
    "uk_province_wise['Province/State'].unique()\n",
    "uk_province_wise.to_csv('uk_province_wise.csv', sep='\\t', index=False)"
   ]
  },
  {
   "cell_type": "code",
   "execution_count": null,
   "metadata": {},
   "outputs": [],
   "source": [
    "italy_province_wise = full_join3[full_join3['Country/Region']=='Italy']\n",
    "italy_province_wise['Province/State'].unique()\n",
    "italy_province_wise.to_csv('italy_province_wise.csv', sep='\\t', index=False)"
   ]
  },
  {
   "cell_type": "code",
   "execution_count": null,
   "metadata": {},
   "outputs": [],
   "source": [
    "spain_province_wise = full_join3[full_join3['Country/Region']=='Spain']\n",
    "spain_province_wise['Province/State'].unique()\n",
    "spain_province_wise.to_csv('spain_province_wise.csv', sep='\\t', index=False)"
   ]
  },
  {
   "cell_type": "code",
   "execution_count": null,
   "metadata": {},
   "outputs": [],
   "source": [
    "france_province_wise = full_join3[full_join3['Country/Region']=='France']\n",
    "france_province_wise['Province/State'].unique()\n",
    "france_province_wise.to_csv('france_province_wise.csv', sep='\\t', index=False)"
   ]
  },
  {
   "cell_type": "code",
   "execution_count": null,
   "metadata": {},
   "outputs": [],
   "source": [
    "germany_province_wise = full_join3[full_join3['Country/Region']=='Germany']\n",
    "germany_province_wise['Province/State'].unique()\n",
    "germany_province_wise.to_csv('germany_province_wise.csv', sep='\\t', index=False)"
   ]
  },
  {
   "cell_type": "code",
   "execution_count": null,
   "metadata": {},
   "outputs": [],
   "source": [
    "netherlands_province_wise = full_join3[full_join3['Country/Region']=='Netherlands']\n",
    "netherlands_province_wise['Province/State'].unique()\n",
    "netherlands_province_wise.to_csv('netherlands_province_wise.csv', sep='\\t', index=False)"
   ]
  },
  {
   "cell_type": "code",
   "execution_count": null,
   "metadata": {},
   "outputs": [],
   "source": []
  },
  {
   "cell_type": "code",
   "execution_count": null,
   "metadata": {},
   "outputs": [],
   "source": [
    "path = \"C:\\\\Users\\\\Hakan\\\\Desktop\\\\Covid-19\\\\\"\n",
    "\n",
    "os.chdir(path)\n",
    "\n",
    "worldwide3.to_csv('Worldwide PowerBI.csv', sep='\\t', index=False)"
   ]
  },
  {
   "cell_type": "code",
   "execution_count": null,
   "metadata": {},
   "outputs": [],
   "source": [
    "path = \"C:\\\\Users\\\\Hakan\\\\Desktop\\\\Covid-19\\\\\"\n",
    "\n",
    "os.chdir(path)\n",
    "\n",
    "full_join3.to_csv('CoronaVirus PowerBI.csv', sep='\\t', index=False)"
   ]
  },
  {
   "cell_type": "code",
   "execution_count": null,
   "metadata": {},
   "outputs": [],
   "source": []
  },
  {
   "cell_type": "code",
   "execution_count": null,
   "metadata": {},
   "outputs": [],
   "source": []
  },
  {
   "cell_type": "code",
   "execution_count": null,
   "metadata": {},
   "outputs": [],
   "source": []
  }
 ],
 "metadata": {
  "kernelspec": {
   "display_name": "Python 3",
   "language": "python",
   "name": "python3"
  },
  "language_info": {
   "codemirror_mode": {
    "name": "ipython",
    "version": 3
   },
   "file_extension": ".py",
   "mimetype": "text/x-python",
   "name": "python",
   "nbconvert_exporter": "python",
   "pygments_lexer": "ipython3",
   "version": "3.6.9"
  }
 },
 "nbformat": 4,
 "nbformat_minor": 2
}
